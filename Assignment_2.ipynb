{
 "cells": [
  {
   "cell_type": "code",
   "execution_count": 1,
   "id": "f01309bb",
   "metadata": {},
   "outputs": [],
   "source": [
    "# Import libraries\n",
    "import pandas as pd\n",
    "import numpy as np\n",
    "import statsmodels.api as sm\n",
    "import statsmodels.formula.api as smf\n",
    "import matplotlib.pyplot as plt\n",
    "import seaborn as sns\n",
    "from sklearn.model_selection import train_test_split\n",
    "from sklearn.linear_model import LinearRegression\n",
    "from sklearn.metrics import mean_squared_error\n",
    "from statsmodels.stats.outliers_influence import variance_inflation_factor"
   ]
  },
  {
   "cell_type": "code",
   "execution_count": 4,
   "id": "15cc6448",
   "metadata": {},
   "outputs": [
    {
     "name": "stdout",
     "output_type": "stream",
     "text": [
      "First few rows of Abalone dataset:\n",
      "   id Sex  Length  Diameter  Height  Whole weight  Whole weight.1  \\\n",
      "0   0   F   0.550     0.430   0.150        0.7715          0.3285   \n",
      "1   1   F   0.630     0.490   0.145        1.1300          0.4580   \n",
      "2   2   I   0.160     0.110   0.025        0.0210          0.0055   \n",
      "3   3   M   0.595     0.475   0.150        0.9145          0.3755   \n",
      "4   4   I   0.555     0.425   0.130        0.7820          0.3695   \n",
      "\n",
      "   Whole weight.2  Shell weight  Rings  \n",
      "0          0.1465        0.2400     11  \n",
      "1          0.2765        0.3200     11  \n",
      "2          0.0030        0.0050      6  \n",
      "3          0.2055        0.2500     10  \n",
      "4          0.1600        0.1975      9  \n"
     ]
    }
   ],
   "source": [
    "# Step 1: Load Abalone dataset\n",
    "\n",
    "abalone = pd.read_csv('C:/Users/Matt/OneDrive/Desktop/Predictive Analysis/Week_2/train.csv.zip')\n",
    "print(\"First few rows of Abalone dataset:\")\n",
    "print(abalone.head())"
   ]
  },
  {
   "cell_type": "code",
   "execution_count": 5,
   "id": "d7278cda",
   "metadata": {},
   "outputs": [],
   "source": [
    "# Step 2: Preprocessing\n",
    "\n",
    "# Encode 'Sex' variable\n",
    "abalone['Sex'] = abalone['Sex'].map({'M': 0, 'F': 1, 'I': 2})\n",
    "\n",
    "# Drop 'id' column if it exists\n",
    "if 'id' in abalone.columns:\n",
    "    abalone = abalone.drop(columns=['id'])"
   ]
  },
  {
   "cell_type": "code",
   "execution_count": 7,
   "id": "c80d4a40",
   "metadata": {},
   "outputs": [],
   "source": [
    "# Step 3: Train/Test Split\n",
    "\n",
    "X = abalone.drop('Rings', axis=1)\n",
    "y = abalone['Rings']\n",
    "X_train, X_test, y_train, y_test = train_test_split(X, y, test_size=0.2, random_state=42)"
   ]
  },
  {
   "cell_type": "code",
   "execution_count": 8,
   "id": "477b2c71",
   "metadata": {},
   "outputs": [
    {
     "name": "stdout",
     "output_type": "stream",
     "text": [
      "\n",
      "Model 1 Summary (Simple Linear Regression):\n",
      "                            OLS Regression Results                            \n",
      "==============================================================================\n",
      "Dep. Variable:                  Rings   R-squared:                       0.389\n",
      "Model:                            OLS   Adj. R-squared:                  0.389\n",
      "Method:                 Least Squares   F-statistic:                 5.772e+04\n",
      "Date:                Sun, 27 Apr 2025   Prob (F-statistic):               0.00\n",
      "Time:                        13:12:19   Log-Likelihood:            -2.1097e+05\n",
      "No. Observations:               90615   AIC:                         4.219e+05\n",
      "Df Residuals:                   90613   BIC:                         4.220e+05\n",
      "Df Model:                           1                                         \n",
      "Covariance Type:            nonrobust                                         \n",
      "==============================================================================\n",
      "                 coef    std err          t      P>|t|      [0.025      0.975]\n",
      "------------------------------------------------------------------------------\n",
      "Intercept      1.0304      0.037     27.844      0.000       0.958       1.103\n",
      "Length        16.7597      0.070    240.242      0.000      16.623      16.896\n",
      "==============================================================================\n",
      "Omnibus:                    36153.841   Durbin-Watson:                   1.985\n",
      "Prob(Omnibus):                  0.000   Jarque-Bera (JB):           166409.535\n",
      "Skew:                           1.930   Prob(JB):                         0.00\n",
      "Kurtosis:                       8.402   Cond. No.                         10.7\n",
      "==============================================================================\n",
      "\n",
      "Notes:\n",
      "[1] Standard Errors assume that the covariance matrix of the errors is correctly specified.\n"
     ]
    }
   ],
   "source": [
    "# Step 4: Model 1 - Simple Linear Regression (Length -> Rings)\n",
    "\n",
    "model1 = smf.ols('Rings ~ Length', data=abalone).fit()\n",
    "print(\"\\nModel 1 Summary (Simple Linear Regression):\")\n",
    "print(model1.summary())"
   ]
  },
  {
   "cell_type": "code",
   "execution_count": 9,
   "id": "8e50cd70",
   "metadata": {},
   "outputs": [
    {
     "name": "stdout",
     "output_type": "stream",
     "text": [
      "\n",
      "Model 2 Summary (Multiple Linear Regression):\n",
      "                            OLS Regression Results                            \n",
      "==============================================================================\n",
      "Dep. Variable:                  Rings   R-squared:                       0.604\n",
      "Model:                            OLS   Adj. R-squared:                  0.604\n",
      "Method:                 Least Squares   F-statistic:                 1.384e+04\n",
      "Date:                Sun, 27 Apr 2025   Prob (F-statistic):               0.00\n",
      "Time:                        13:12:34   Log-Likelihood:            -1.5286e+05\n",
      "No. Observations:               72492   AIC:                         3.057e+05\n",
      "Df Residuals:                   72483   BIC:                         3.058e+05\n",
      "Df Model:                           8                                         \n",
      "Covariance Type:            nonrobust                                         \n",
      "==================================================================================\n",
      "                     coef    std err          t      P>|t|      [0.025      0.975]\n",
      "----------------------------------------------------------------------------------\n",
      "const              3.6240      0.066     54.917      0.000       3.495       3.753\n",
      "Sex               -0.2872      0.011    -26.885      0.000      -0.308      -0.266\n",
      "Length            -2.0178      0.448     -4.501      0.000      -2.896      -1.139\n",
      "Diameter           8.5386      0.556     15.351      0.000       7.448       9.629\n",
      "Height            20.5263      0.534     38.471      0.000      19.480      21.572\n",
      "Whole weight       3.7307      0.135     27.640      0.000       3.466       3.995\n",
      "Whole weight.1   -15.9489      0.168    -95.026      0.000     -16.278     -15.620\n",
      "Whole weight.2    -6.3939      0.328    -19.471      0.000      -7.038      -5.750\n",
      "Shell weight      21.1376      0.243     87.044      0.000      20.662      21.614\n",
      "==============================================================================\n",
      "Omnibus:                    23988.420   Durbin-Watson:                   1.996\n",
      "Prob(Omnibus):                  0.000   Jarque-Bera (JB):           158341.539\n",
      "Skew:                           1.433   Prob(JB):                         0.00\n",
      "Kurtosis:                       9.649   Cond. No.                         176.\n",
      "==============================================================================\n",
      "\n",
      "Notes:\n",
      "[1] Standard Errors assume that the covariance matrix of the errors is correctly specified.\n"
     ]
    }
   ],
   "source": [
    "# Step 5: Model 2 - Multiple Linear Regression (All features)\n",
    "\n",
    "model2 = sm.OLS(y_train, sm.add_constant(X_train)).fit()\n",
    "print(\"\\nModel 2 Summary (Multiple Linear Regression):\")\n",
    "print(model2.summary())"
   ]
  },
  {
   "cell_type": "code",
   "execution_count": 10,
   "id": "82603e2a",
   "metadata": {},
   "outputs": [
    {
     "data": {
      "image/png": "[encoded data removed]",
      "text/plain": [
       "<Figure size 432x288 with 1 Axes>"
      ]
     },
     "metadata": {
      "needs_background": "light"
     },
     "output_type": "display_data"
    }
   ],
   "source": [
    "# Step 6: Assumption Checks\n",
    "\n",
    "# Linearity: Plot actual vs predicted\n",
    "plt.figure(figsize=(6,4))\n",
    "plt.scatter(y_test, model2.predict(sm.add_constant(X_test)))\n",
    "plt.xlabel('Actual Rings')\n",
    "plt.ylabel('Predicted Rings')\n",
    "plt.title('Actual vs Predicted (Linearity Check)')\n",
    "plt.show()"
   ]
  },
  {
   "cell_type": "code",
   "execution_count": 11,
   "id": "e115e821",
   "metadata": {},
   "outputs": [
    {
     "data": {
      "image/png": "[encoded data removed]",
      "text/plain": [
       "<Figure size 432x288 with 1 Axes>"
      ]
     },
     "metadata": {
      "needs_background": "light"
     },
     "output_type": "display_data"
    }
   ],
   "source": [
    "# Residual Distribution\n",
    "residuals = y_test - model2.predict(sm.add_constant(X_test))\n",
    "sns.histplot(residuals, kde=True)\n",
    "plt.title('Residual Distribution')\n",
    "plt.show()"
   ]
  },
  {
   "cell_type": "code",
   "execution_count": 12,
   "id": "cb75e33c",
   "metadata": {},
   "outputs": [
    {
     "name": "stdout",
     "output_type": "stream",
     "text": [
      "\n",
      "Durbin-Watson statistic (Independence of errors): 2.02\n"
     ]
    }
   ],
   "source": [
    "# Independence (Durbin-Watson test)\n",
    "from statsmodels.stats.stattools import durbin_watson\n",
    "dw = durbin_watson(residuals)\n",
    "print(f\"\\nDurbin-Watson statistic (Independence of errors): {dw:.2f}\")\n"
   ]
  },
  {
   "cell_type": "code",
   "execution_count": 13,
   "id": "9894e2d1",
   "metadata": {},
   "outputs": [
    {
     "name": "stdout",
     "output_type": "stream",
     "text": [
      "\n",
      "Variance Inflation Factors (VIF):\n",
      "          feature         VIF\n",
      "0             Sex    2.994273\n",
      "1          Length  925.150235\n",
      "2        Diameter  964.951230\n",
      "3          Height  100.075164\n",
      "4    Whole weight  272.942335\n",
      "5  Whole weight.1   80.598417\n",
      "6  Whole weight.2   76.157546\n",
      "7    Shell weight   71.804434\n"
     ]
    }
   ],
   "source": [
    "# Collinearity (VIF)\n",
    "vif_data = pd.DataFrame()\n",
    "vif_data['feature'] = X_train.columns\n",
    "vif_data['VIF'] = [variance_inflation_factor(X_train.values, i) for i in range(X_train.shape[1])]\n",
    "print(\"\\nVariance Inflation Factors (VIF):\")\n",
    "print(vif_data)"
   ]
  },
  {
   "cell_type": "code",
   "execution_count": 38,
   "id": "6774da3f",
   "metadata": {},
   "outputs": [
    {
     "name": "stdout",
     "output_type": "stream",
     "text": [
      "\n",
      "Final submission file saved as 'kaggle_submission.csv'. Upload this to Kaggle!\n"
     ]
    }
   ],
   "source": [
    "# Step 7: Kaggle Submission File Creation (Final Fix)\n",
    "\n",
    "# Load Kaggle test set\n",
    "kaggle_test = pd.read_csv('C:/Users/Matt/OneDrive/Desktop/Predictive Analysis/Week_2/test.csv.zip')\n",
    "\n",
    "# Encode 'Sex' variable like you did for training\n",
    "kaggle_test['Sex'] = kaggle_test['Sex'].map({'M': 0, 'F': 1, 'I': 2})\n",
    "\n",
    "# Make sure Kaggle test data has the SAME COLUMNS as training data\n",
    "X_kaggle_test = kaggle_test[X_train.columns]  # <-- align columns to training set\n",
    "\n",
    "# Predict using your second model (multiple linear regression)\n",
    "kaggle_predictions = model2.predict(sm.add_constant(X_kaggle_test))\n",
    "\n",
    "# Create submission DataFrame\n",
    "submission = pd.DataFrame({\n",
    "    'Id': range(len(kaggle_test)),   # Create Ids 0, 1, 2, ...\n",
    "    'Rings': kaggle_predictions.round().astype(int)  # Round predictions\n",
    "})\n",
    "\n",
    "# Save the submission file\n",
    "submission.to_csv('kaggle_submission.csv', index=False)\n",
    "\n",
    "print(\"\\nFinal submission file saved as 'kaggle_submission.csv'. Upload this to Kaggle!\")\n",
    "\n",
    "\n",
    "\n"
   ]
  },
  {
   "cell_type": "code",
   "execution_count": null,
   "id": "7777d303",
   "metadata": {},
   "outputs": [],
   "source": [
    "\n",
    "\n"
   ]
  },
  {
   "cell_type": "code",
   "execution_count": null,
   "id": "63193c3d",
   "metadata": {},
   "outputs": [],
   "source": []
  }
 ],
 "metadata": {
  "kernelspec": {
   "display_name": "Python 3 (ipykernel)",
   "language": "python",
   "name": "python3"
  },
  "language_info": {
   "codemirror_mode": {
    "name": "ipython",
    "version": 3
   },
   "file_extension": ".py",
   "mimetype": "text/x-python",
   "name": "python",
   "nbconvert_exporter": "python",
   "pygments_lexer": "ipython3",
   "version": "3.9.12"
  }
 },
 "nbformat": 4,
 "nbformat_minor": 5
}
